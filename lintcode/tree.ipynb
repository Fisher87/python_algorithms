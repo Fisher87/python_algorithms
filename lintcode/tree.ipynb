{
 "cells": [
  {
   "cell_type": "markdown",
   "metadata": {},
   "source": [
    "### TreeNode"
   ]
  },
  {
   "cell_type": "code",
   "execution_count": 1,
   "metadata": {
    "collapsed": true
   },
   "outputs": [],
   "source": [
    "class TreeNode(object):\n",
    "    def __init__(self, val=0):\n",
    "        self.val  = val\n",
    "        self.left = None\n",
    "        self.right= None"
   ]
  },
  {
   "cell_type": "markdown",
   "metadata": {},
   "source": [
    "#### 1.二叉树的生成和遍历"
   ]
  },
  {
   "cell_type": "code",
   "execution_count": null,
   "metadata": {
    "collapsed": true
   },
   "outputs": [],
   "source": [
    "def create(root, value):   \n",
    "    if not value \n",
    "        root=None\n",
    "    else: \n",
    "        root=TreeNode(val=value)\n",
    "        root.left=create(root.left)\n",
    "        root.right=create(root.right)\n",
    "    return root\n",
    "\n",
    "#前序遍历  \n",
    "def preorder(root):     \n",
    "    if root is None:  \n",
    "        return\n",
    "    else :  \n",
    "        print(root.key)  \n",
    "        preorder(root.left) \n",
    "        preorder(root.right)\n",
    "\n",
    "#中序遍历  \n",
    "def inorder(root):     \n",
    "    if root is None:  \n",
    "        return\n",
    "    else:  \n",
    "        inorder(root.left) \n",
    "        print(root.key)  \n",
    "        inorder(root.right) \n",
    "\n",
    "# 后序遍历  \n",
    "def postorder(root):   \n",
    "    if root is None:  \n",
    "        return\n",
    "    else :  \n",
    "        postorder(root.left)\n",
    "        postorder(root.right) \n",
    "        print(root.key)  "
   ]
  },
  {
   "cell_type": "markdown",
   "metadata": {},
   "source": [
    "#### 2. 二叉树最大节点\n",
    "在二叉树中寻找值最大的节点并返回。"
   ]
  },
  {
   "cell_type": "code",
   "execution_count": null,
   "metadata": {
    "collapsed": true
   },
   "outputs": [],
   "source": [
    "class Solution:\n",
    "    # @param {TreeNode} root the root of binary tree\n",
    "    # @return {TreeNode} the max node\n",
    "    def maxNode(self, root):\n",
    "        # Write your code here\n",
    "        self.max = root\n",
    "        def maxroot(root):\n",
    "            if root is None:\n",
    "                return\n",
    "            if root.val > self.max.val:                \n",
    "                self.max = root\n",
    "                \n",
    "            maxroot(root.left)\n",
    "            maxroot(root.right)\n",
    "        maxroot(root)\n",
    "        return self.max"
   ]
  },
  {
   "cell_type": "markdown",
   "metadata": {},
   "source": [
    "#### 3. 二叉树的路径和\n",
    "> 给定一个二叉树，找出所有路径中各节点相加总和等于给定 目标值 的路径。一个有效的路径，指的是从根节点到叶节点的路径"
   ]
  },
  {
   "cell_type": "code",
   "execution_count": null,
   "metadata": {
    "collapsed": true
   },
   "outputs": [],
   "source": [
    "class Solution(object):\n",
    "    # @param {TreeNode} root the root of binary tree\n",
    "    # @param {int} target an integer\n",
    "    # @return {int[][]} all valid paths\n",
    "    sum_value = 0 \n",
    "    root_value = list()\n",
    "    \n",
    "    def binaryTreePathSum(self, root, target):\n",
    "        # Write your code here\n",
    "        self.sum_value += root.val\n",
    "        print root.val\n",
    "\n",
    "        if self.sum_value > target:\n",
    "            return self.root_value\n",
    "\n",
    "        self.root_value.append(root.val)\n",
    "\n",
    "        if self.sum_value == target:\n",
    "            return self.root_value\n",
    "        elif root.left is not None:\n",
    "            self.binaryTreePathSum(root.left, target)\n",
    "        elif root.right is not None:\n",
    "            self.binaryTreePathSum(root.right, target) "
   ]
  },
  {
   "cell_type": "markdown",
   "metadata": {},
   "source": [
    "#### 4. 二叉树倒置\n",
    "> Given a binary tree where all the right nodes are either leaf nodes with a sibling \n",
    "(a left node that shares the same parent node) or empty, flip it upside down and \n",
    "turn it into a tree where the original right nodes turned into left leaf nodes. \n",
    "Return the new root.\n",
    "\n",
    "```\n",
    "# For example:\n",
    "# Given a binary tree {1,2,3,4,5},\n",
    "# \n",
    "#     1\n",
    "#    / \\\n",
    "#   2   3\n",
    "#  / \\\n",
    "# 4   5\n",
    "# \n",
    "# return the root of the binary tree [4,5,2,#,#,3,1].\n",
    "# \n",
    "#    4\n",
    "#   / \\\n",
    "#  5   2\n",
    "#     / \\\n",
    "#    3   1  \n",
    "#\n",
    "```"
   ]
  },
  {
   "cell_type": "code",
   "execution_count": null,
   "metadata": {
    "collapsed": true
   },
   "outputs": [],
   "source": [
    "class Solution:\n",
    "    # @param root, a tree node\n",
    "    # @return root of the upside down tree\n",
    "    def upsideDownBinaryTree(self, root):\n",
    "        p, parent, parent_right = root, None, None\n",
    "        \n",
    "        while p:\n",
    "            left = p.left\n",
    "            p.left = parent_right\n",
    "            parent_right = p.right\n",
    "            p.right = parent\n",
    "            parent = p\n",
    "            p = left\n",
    "            \n",
    "        return parent"
   ]
  }
 ],
 "metadata": {
  "kernelspec": {
   "display_name": "Python 3",
   "language": "python",
   "name": "python3"
  },
  "language_info": {
   "codemirror_mode": {
    "name": "ipython",
    "version": 3
   },
   "file_extension": ".py",
   "mimetype": "text/x-python",
   "name": "python",
   "nbconvert_exporter": "python",
   "pygments_lexer": "ipython3",
   "version": "3.6.4"
  }
 },
 "nbformat": 4,
 "nbformat_minor": 2
}
