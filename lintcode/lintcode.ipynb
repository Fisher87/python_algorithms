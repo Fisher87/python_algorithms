{
 "cells": [
  {
   "cell_type": "markdown",
   "metadata": {},
   "source": [
    "### 1. 单例"
   ]
  },
  {
   "cell_type": "code",
   "execution_count": 2,
   "metadata": {},
   "outputs": [
    {
     "name": "stdout",
     "output_type": "stream",
     "text": [
      "True\n"
     ]
    }
   ],
   "source": [
    "class Solution:\n",
    "    # @return: The same instance of this class every time\n",
    "    _instance = None\n",
    "    \n",
    "    def __init__(self):\n",
    "        pass\n",
    "    \n",
    "    @classmethod\n",
    "    def getInstance(cls):\n",
    "        # write your code here\n",
    "        if cls._instance is None:\n",
    "            cls._instance = Solution().__init__()\n",
    "        return cls._instance\n",
    "        \n",
    "    \n",
    "\n",
    "a = Solution().getInstance()\n",
    "b = Solution().getInstance()\n",
    "\n",
    "print(a is b)"
   ]
  },
  {
   "cell_type": "markdown",
   "metadata": {},
   "source": [
    "### 2. 字符串置换"
   ]
  },
  {
   "cell_type": "code",
   "execution_count": 3,
   "metadata": {},
   "outputs": [
    {
     "name": "stdout",
     "output_type": "stream",
     "text": [
      "True\n"
     ]
    }
   ],
   "source": [
    "class Solution:\n",
    "    # @param {string} A a string\n",
    "    # @param {string} B a string\n",
    "    # @return {boolean} a boolean\n",
    "        \n",
    "    def stringPermutation(self, A, B):\n",
    "        # Write your code here\n",
    "        if len(A) != len(B):\n",
    "            return False\n",
    "        B = [i for i in B]\n",
    "        \n",
    "        for i in A:\n",
    "            if i not in B:\n",
    "                return False\n",
    "            B.remove(i)\n",
    "        if not B:\n",
    "            return True\n",
    "        else:return False\n",
    "        \n",
    "if __name__ == '__main__':\n",
    "    A = \"abc\"\n",
    "    B = \"cba\"\n",
    "    solution = Solution()\n",
    "    ret = solution.stringPermutation(A,B)\n",
    "    print(ret)"
   ]
  },
  {
   "cell_type": "markdown",
   "metadata": {},
   "source": [
    "### 3.回文数\n",
    "> 判断一个正整数是不是回文数。回文数的定义是，将这个数反转之后，得到的数仍然是同一个数。"
   ]
  },
  {
   "cell_type": "code",
   "execution_count": null,
   "metadata": {
    "collapsed": true
   },
   "outputs": [],
   "source": [
    "class Solution:\n",
    "    # @param {int} num a positive number\n",
    "    # @return {boolean} true if it's a palindrome or false\n",
    "    def palindromeNumber(self, num):\n",
    "        # Write your code here\n",
    "        str_num = str(num)\n",
    "        length = len(str_num)\n",
    "        for i in xrange(length/2):\n",
    "            if str_num[i] != str_num[length-i-1]:\n",
    "                return False\n",
    "        return True                "
   ]
  },
  {
   "cell_type": "markdown",
   "metadata": {},
   "source": [
    "### 4.各位相加\n",
    "> 给出一个非负整数 num，反复的将所有位上的数字相加，直到得到一个一位的整数。"
   ]
  },
  {
   "cell_type": "code",
   "execution_count": null,
   "metadata": {
    "collapsed": true
   },
   "outputs": [],
   "source": [
    "class Solution:\n",
    "    # @param {int} num a non-negative integer\n",
    "    # @return {int} one digit\n",
    "    def addDigits(self, num):\n",
    "        # Write your code here\n",
    "        while num>=10:\n",
    "            num = sum([int(i) for i in str(num)])\n",
    "        return num"
   ]
  },
  {
   "cell_type": "markdown",
   "metadata": {},
   "source": [
    "### 5.整数排序\n",
    "> 给一组整数，按照升序排序，使用选择排序，冒泡排序，插入排序或者任何 O(n2) 的排序算法。"
   ]
  },
  {
   "cell_type": "code",
   "execution_count": null,
   "metadata": {
    "collapsed": true
   },
   "outputs": [],
   "source": [
    "class Solution:\n",
    "    # @param {int[]} A an integer array\n",
    "    # @return nothing\n",
    "    def sortIntegers(self, A):\n",
    "        # Write your code here\n",
    "        def bublesort(A):\n",
    "            for i in xrange(len(A)-1):\n",
    "                for j in xrange(i+1,len(A)):\n",
    "                    if A[i] > A[j]:\n",
    "                        A[i], A[j] = A[j], A[i]\n",
    "                \n",
    "            return A\n",
    "        A = bublesort(A)\n",
    "        return A"
   ]
  },
  {
   "cell_type": "markdown",
   "metadata": {},
   "source": [
    "### 6.两数组的交\n",
    "> 计算两个数组的交"
   ]
  },
  {
   "cell_type": "code",
   "execution_count": null,
   "metadata": {
    "collapsed": true
   },
   "outputs": [],
   "source": [
    "class Solution:\n",
    "    # @param {int[]} nums1 an integer array\n",
    "    # @param {int[]} nums2 an integer array\n",
    "    # @return {int[]} an integer array\n",
    "    def intersection(self, nums1, nums2):\n",
    "        # Write your code here\n",
    "        from collections import Counter\n",
    "        nums1_count = Counter(nums1)\n",
    "        nums2_count = Counter(nums2)\n",
    "        nums1_set = set(nums1_count)\n",
    "        nums2_set = set(nums2_count)\n",
    "        com = nums1_set & nums2_set\n",
    "        res = list()\n",
    "        for c in com:\n",
    "            cou = min(nums1_count[c], nums2_count[c])\n",
    "            l = [c for i in xrange(cou)]\n",
    "            res.extend(l)\n",
    "            \n",
    "        return res"
   ]
  }
 ],
 "metadata": {
  "kernelspec": {
   "display_name": "Python 3",
   "language": "python",
   "name": "python3"
  },
  "language_info": {
   "codemirror_mode": {
    "name": "ipython",
    "version": 3
   },
   "file_extension": ".py",
   "mimetype": "text/x-python",
   "name": "python",
   "nbconvert_exporter": "python",
   "pygments_lexer": "ipython3",
   "version": "3.6.1"
  }
 },
 "nbformat": 4,
 "nbformat_minor": 2
}
