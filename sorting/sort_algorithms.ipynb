{
 "cells": [
  {
   "cell_type": "markdown",
   "metadata": {},
   "source": [
    "## 快速排序"
   ]
  },
  {
   "cell_type": "markdown",
   "metadata": {},
   "source": [
    "#### 使用辅助空间"
   ]
  },
  {
   "cell_type": "code",
   "execution_count": 3,
   "metadata": {},
   "outputs": [],
   "source": [
    "def quicksort(l):\n",
    "    if l is None:\n",
    "        raise TypeError()\n",
    "    if len(l) < 2:\n",
    "        return l\n",
    "    left = list()\n",
    "    right = list()\n",
    "    equal = list()\n",
    "    flag = l[0]\n",
    "\n",
    "    for i in l:\n",
    "        if i == flag:\n",
    "            equal.append(i)\n",
    "        elif i < flag:\n",
    "            left.append(i)\n",
    "        else:\n",
    "            right.append(i)\n",
    "    left_ = quicksort(left)\n",
    "    right_= quicksort(right)\n",
    "\n",
    "    return left_ + equal + right_"
   ]
  },
  {
   "cell_type": "markdown",
   "metadata": {},
   "source": [
    "#### 不使用辅助空间"
   ]
  },
  {
   "cell_type": "code",
   "execution_count": 4,
   "metadata": {},
   "outputs": [],
   "source": [
    "def quick_sort(l, left, right):\n",
    "    if left>=right:\n",
    "        return l\n",
    "    flag = l[left]\n",
    "    low = left\n",
    "    high= right\n",
    "    while left<right:\n",
    "        while left<right and l[right] >= flag:\n",
    "            right -= 1\n",
    "        l[left] = l[right]\n",
    "        while left<right and l[left] <= flag:\n",
    "            left += 1\n",
    "        l[right] = l[left]\n",
    "    l[right] = flag\n",
    "    quick_sorted(l, low, left-1)\n",
    "    quick_sorted(l, left+1, high)\n",
    "    return l"
   ]
  },
  {
   "cell_type": "code",
   "execution_count": 5,
   "metadata": {},
   "outputs": [
    {
     "name": "stdout",
     "output_type": "stream",
     "text": [
      "[0, 1, 2, 3, 4, 5, 6, 7, 8, 9]\n",
      "[0, 1, 2, 3, 4, 5, 6, 7, 8, 9]\n"
     ]
    }
   ],
   "source": [
    "## test\n",
    "l = [3,5,6,1,8,7,4,9,2,0]\n",
    "x = quicksort(l)\n",
    "print(x)\n",
    "\n",
    "quick_sort(l, 0, len(l)-1)\n",
    "print(l)"
   ]
  }
 ],
 "metadata": {
  "kernelspec": {
   "display_name": "Python 3",
   "language": "python",
   "name": "python3"
  },
  "language_info": {
   "codemirror_mode": {
    "name": "ipython",
    "version": 3
   },
   "file_extension": ".py",
   "mimetype": "text/x-python",
   "name": "python",
   "nbconvert_exporter": "python",
   "pygments_lexer": "ipython3",
   "version": "3.6.4"
  }
 },
 "nbformat": 4,
 "nbformat_minor": 2
}
