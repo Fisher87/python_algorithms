{
 "cells": [
  {
   "cell_type": "markdown",
   "metadata": {},
   "source": [
    "## 快速排序\n",
    "> 通过一趟排序将要排序的数据分割成独立的两部分，其中一部分的所有数据都比另外一部分的所有数据都要小，然后再按此方法对这两部分数据分别进行快速排序，整个排序过程可以递归进行，以此达到整个数据变成有序序列。"
   ]
  },
  {
   "cell_type": "markdown",
   "metadata": {},
   "source": [
    "#### 使用辅助空间"
   ]
  },
  {
   "cell_type": "code",
   "execution_count": 3,
   "metadata": {},
   "outputs": [],
   "source": [
    "def quicksort(l):\n",
    "    if l is None:\n",
    "        raise TypeError()\n",
    "    if len(l) < 2:\n",
    "        return l\n",
    "    left = list()\n",
    "    right = list()\n",
    "    equal = list()\n",
    "    flag = l[0]\n",
    "\n",
    "    for i in l:\n",
    "        if i == flag:\n",
    "            equal.append(i)\n",
    "        elif i < flag:\n",
    "            left.append(i)\n",
    "        else:\n",
    "            right.append(i)\n",
    "    left_ = quicksort(left)\n",
    "    right_= quicksort(right)\n",
    "\n",
    "    return left_ + equal + right_"
   ]
  },
  {
   "cell_type": "markdown",
   "metadata": {},
   "source": [
    "#### 不使用辅助空间"
   ]
  },
  {
   "cell_type": "code",
   "execution_count": 4,
   "metadata": {},
   "outputs": [],
   "source": [
    "def quick_sort(l, left, right):\n",
    "    if left>=right:\n",
    "        return l\n",
    "    flag = l[left]\n",
    "    low = left\n",
    "    high= right\n",
    "    while left<right:\n",
    "        while left<right and l[right] >= flag:\n",
    "            right -= 1\n",
    "        l[left] = l[right]\n",
    "        while left<right and l[left] <= flag:\n",
    "            left += 1\n",
    "        l[right] = l[left]\n",
    "    l[right] = flag\n",
    "    quick_sorted(l, low, left-1)\n",
    "    quick_sorted(l, left+1, high)\n",
    "    return l"
   ]
  },
  {
   "cell_type": "code",
   "execution_count": 5,
   "metadata": {},
   "outputs": [
    {
     "name": "stdout",
     "output_type": "stream",
     "text": [
      "[0, 1, 2, 3, 4, 5, 6, 7, 8, 9]\n",
      "[0, 1, 2, 3, 4, 5, 6, 7, 8, 9]\n"
     ]
    }
   ],
   "source": [
    "## test\n",
    "l = [3,5,6,1,8,7,4,9,2,0]\n",
    "x = quicksort(l)\n",
    "print(x)\n",
    "\n",
    "quick_sort(l, 0, len(l)-1)\n",
    "print(l)"
   ]
  },
  {
   "cell_type": "markdown",
   "metadata": {},
   "source": [
    "## 归并排序\n",
    "> 归并排序是建立在归并操作上的一种有效的排序算法,该算法是采用分治法（Divide and Conquer）的一个非常典型的应用。将已有序的子序列合并，得到完全有序的序列；即先使每个子序列有序，再使子序列段间有序。若将两个有序表合并成一个有序表，称为二路归并。\n",
    "\n",
    "**归并过程**：\n",
    "\n",
    "比较a[i]和a[j]的大小，若a[i]≤a[j]，则将第一个有序表中的元素a[i]复制到r[k]中，并令i和k分别加上1；否则将第二个有序表中的元素a[j]复制到r[k]中，并令j和k分别加上1，如此循环下去，直到其中一个有序表取完，然后再将另一个有序表中剩余的元素复制到r中从下标k到下标t的单元。归并排序的算法我们通常用递归实现，先把待排序区间[s,t]以中点二分，接着把左边子区间排序，再把右边子区间排序，最后把左区间和右区间用一次归并操作合并成有序的区间[s,t]。"
   ]
  },
  {
   "cell_type": "code",
   "execution_count": 3,
   "metadata": {},
   "outputs": [
    {
     "name": "stdout",
     "output_type": "stream",
     "text": [
      "[0, 1, 2, 3, 4, 5, 6, 7, 8, 9]\n"
     ]
    }
   ],
   "source": [
    "def merge_sort(lists):\n",
    "    if len(lists) <= 1:\n",
    "        return lists\n",
    "    mid  = int(len(lists)/2)\n",
    "    left = merge_sort(lists[:mid])\n",
    "    right= merge_sort(lists[mid:])\n",
    "    \n",
    "    return merge(left, right)\n",
    "\n",
    "def merge(left, right):\n",
    "    i, j = 0, 0\n",
    "    results = list()\n",
    "    while i<len(left) and j<len(right):\n",
    "        if left[i] < right[j]:\n",
    "            results.append(left[i])\n",
    "            i += 1\n",
    "        else:\n",
    "            results.append(right[j])\n",
    "            j += 1\n",
    "    results += left[i:]\n",
    "    results += right[j:]\n",
    "    \n",
    "    return results\n",
    "\n",
    "l = [3,5,6,1,8,7,4,9,2,0]\n",
    "x = merge_sort(l)\n",
    "print(x)"
   ]
  }
 ],
 "metadata": {
  "kernelspec": {
   "display_name": "Python 3",
   "language": "python",
   "name": "python3"
  },
  "language_info": {
   "codemirror_mode": {
    "name": "ipython",
    "version": 3
   },
   "file_extension": ".py",
   "mimetype": "text/x-python",
   "name": "python",
   "nbconvert_exporter": "python",
   "pygments_lexer": "ipython3",
   "version": "3.6.4"
  }
 },
 "nbformat": 4,
 "nbformat_minor": 2
}
